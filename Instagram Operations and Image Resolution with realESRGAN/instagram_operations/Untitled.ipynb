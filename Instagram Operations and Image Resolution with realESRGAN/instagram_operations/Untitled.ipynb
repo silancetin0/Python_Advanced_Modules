{
 "cells": [
  {
   "cell_type": "code",
   "execution_count": 1,
   "id": "eb68b784-fd4c-4f2a-b7f4-02342f07442b",
   "metadata": {},
   "outputs": [],
   "source": [
    "import instaloader\n",
    "import requests"
   ]
  },
  {
   "cell_type": "code",
   "execution_count": 12,
   "id": "f2bceaba-9ee3-43f9-b639-17b45802f8d4",
   "metadata": {},
   "outputs": [
    {
     "name": "stdout",
     "output_type": "stream",
     "text": [
      "\n",
      "HTTP redirect from https://i.instagram.com/api/v1/users/web_profile_info/?username=silanctn_0 to https://i.instagram.com/accounts/login/?next=/api/v1/users/web_profile_info/\n",
      "Hata = Redirected to login page. Use --login.\n"
     ]
    }
   ],
   "source": [
    "def download_profile_pic(username):\n",
    "    \n",
    "    \n",
    "    loader = instaloader.Instaloader()\n",
    "\n",
    "    try:\n",
    "        profile = instaloader.Profile.from_username(loader.context,username)\n",
    "       \n",
    "        profile_pic_url = profile.profile_pic_url\n",
    "        response = requests.get(profile_pic_url)\n",
    "    \n",
    "        with open(f\"{username}_profile_pic.jpg\",\"wb\") as f:\n",
    "            \n",
    "            f.write(response.content)\n",
    "            \n",
    "            print(\"profil fotoğrafı başarıyla indirildi.\")\n",
    "\n",
    "    except Exception as e:\n",
    "        print(f\"Hata = {e}\")\n",
    "\n",
    "username = \"silanctn_0\"\n",
    "download_profile_pic(username)"
   ]
  },
  {
   "cell_type": "code",
   "execution_count": 9,
   "id": "1f0fe299-9cc3-45fe-b3bf-51caaf87aa61",
   "metadata": {},
   "outputs": [
    {
     "name": "stdout",
     "output_type": "stream",
     "text": [
      "Gönderi sayısı:13\n",
      "Takip Ettiği Kişi sayısı:263\n",
      "Takipci Sayısı:272\n"
     ]
    }
   ],
   "source": [
    "def download_profile_pic(username):\n",
    "    \n",
    "    \n",
    "    loader = instaloader.Instaloader()\n",
    "\n",
    "    try:\n",
    "        profile = instaloader.Profile.from_username(loader.context,username)\n",
    "       \n",
    "        num_posts = profile.mediacount\n",
    "        \n",
    "        num_followees = profile.followees\n",
    "\n",
    "        num_followers = profile.followers\n",
    "    \n",
    "        print(f\"Gönderi sayısı:{num_posts}\")\n",
    "        print(f\"Takip Ettiği Kişi sayısı:{num_followees}\")\n",
    "        print(f\"Takipci Sayısı:{num_followers}\")\n",
    "        \n",
    "\n",
    "    except Exception as e:\n",
    "        print(f\"Hata = {e}\")\n",
    "\n",
    "username = \"silanctn_0\"\n",
    "download_profile_pic(username)"
   ]
  },
  {
   "cell_type": "code",
   "execution_count": null,
   "id": "b70312b2-3fcf-45f4-9008-ae288f3c4ee4",
   "metadata": {},
   "outputs": [],
   "source": []
  }
 ],
 "metadata": {
  "kernelspec": {
   "display_name": "env_ybs",
   "language": "python",
   "name": "env_ybs"
  },
  "language_info": {
   "codemirror_mode": {
    "name": "ipython",
    "version": 3
   },
   "file_extension": ".py",
   "mimetype": "text/x-python",
   "name": "python",
   "nbconvert_exporter": "python",
   "pygments_lexer": "ipython3",
   "version": "3.10.10"
  }
 },
 "nbformat": 4,
 "nbformat_minor": 5
}
