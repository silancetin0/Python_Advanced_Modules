{
 "cells": [
  {
   "cell_type": "code",
   "execution_count": 1,
   "id": "eb68b784-fd4c-4f2a-b7f4-02342f07442b",
   "metadata": {},
   "outputs": [],
   "source": [
    "import instaloader\n",
    "import requests"
   ]
  },
  {
   "cell_type": "code",
   "execution_count": 7,
   "id": "f2bceaba-9ee3-43f9-b639-17b45802f8d4",
   "metadata": {},
   "outputs": [
    {
     "ename": "NameError",
     "evalue": "name 'download_profile_pic' is not defined",
     "output_type": "error",
     "traceback": [
      "\u001b[1;31m---------------------------------------------------------------------------\u001b[0m",
      "\u001b[1;31mNameError\u001b[0m                                 Traceback (most recent call last)",
      "Cell \u001b[1;32mIn[7], line 22\u001b[0m\n\u001b[0;32m     19\u001b[0m         \u001b[38;5;28mprint\u001b[39m(\u001b[38;5;124mf\u001b[39m\u001b[38;5;124m\"\u001b[39m\u001b[38;5;124mHata = \u001b[39m\u001b[38;5;132;01m{\u001b[39;00me\u001b[38;5;132;01m}\u001b[39;00m\u001b[38;5;124m\"\u001b[39m)\n\u001b[0;32m     21\u001b[0m username \u001b[38;5;241m=\u001b[39m \u001b[38;5;124m\"\u001b[39m\u001b[38;5;124mcristiano\u001b[39m\u001b[38;5;124m\"\u001b[39m\n\u001b[1;32m---> 22\u001b[0m \u001b[43mdownload_profile_pic\u001b[49m(username)\n",
      "\u001b[1;31mNameError\u001b[0m: name 'download_profile_pic' is not defined"
     ]
    }
   ],
   "source": [
    "def download_profile_pic(username):\n",
    "    \n",
    "    \n",
    "    loader = instaloader.Instaloader()\n",
    "\n",
    "    try:\n",
    "        profile = instaloader.Profile.from_username(loader.context,username)\n",
    "       \n",
    "        profile_pic_url = profile.profile_pic_url\n",
    "        response = requests.get(profile_pic_url)\n",
    "    \n",
    "        with open(f\"{username}_profile_pic.jpg\",\"wb\") as f:\n",
    "            \n",
    "            f.write(response.content)\n",
    "            \n",
    "            print(\"profil fotoğrafı başarıyla indirildi.\")\n",
    "\n",
    "    except Exception as e:\n",
    "        print(f\"Hata = {e}\")\n",
    "\n",
    "username = \"cristiano\"\n",
    "download_profile_pic(username)"
   ]
  },
  {
   "cell_type": "code",
   "execution_count": null,
   "id": "1f0fe299-9cc3-45fe-b3bf-51caaf87aa61",
   "metadata": {},
   "outputs": [],
   "source": []
  }
 ],
 "metadata": {
  "kernelspec": {
   "display_name": "env_ybs",
   "language": "python",
   "name": "env_ybs"
  },
  "language_info": {
   "codemirror_mode": {
    "name": "ipython",
    "version": 3
   },
   "file_extension": ".py",
   "mimetype": "text/x-python",
   "name": "python",
   "nbconvert_exporter": "python",
   "pygments_lexer": "ipython3",
   "version": "3.10.10"
  }
 },
 "nbformat": 4,
 "nbformat_minor": 5
}
